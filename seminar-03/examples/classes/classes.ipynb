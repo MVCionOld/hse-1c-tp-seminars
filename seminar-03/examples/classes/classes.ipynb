{
  "nbformat": 4,
  "nbformat_minor": 0,
  "metadata": {
    "celltoolbar": "Slideshow",
    "kernelspec": {
      "display_name": "Python 3 (ipykernel)",
      "language": "python",
      "name": "python3"
    },
    "language_info": {
      "codemirror_mode": {
        "name": "ipython",
        "version": 3
      },
      "file_extension": ".py",
      "mimetype": "text/x-python",
      "name": "python",
      "nbconvert_exporter": "python",
      "pygments_lexer": "ipython3",
      "version": "3.9.7"
    },
    "colab": {
      "name": "classes.ipynb",
      "provenance": []
    }
  },
  "cells": [
    {
      "cell_type": "markdown",
      "metadata": {
        "id": "r6VL1YiBG-rP"
      },
      "source": [
        "Ссылка на ноутбук: https://colab.research.google.com/drive/1rQvdUA_wqLIcSb_IPFGNtPauy0yG9XSz?usp=sharing"
      ]
    },
    {
      "cell_type": "markdown",
      "metadata": {
        "id": "gDpaerZoG-rR"
      },
      "source": [
        "# Classes  \n",
        "Сегодня в меню:\n",
        "  * cоздание классов, аттрибуты и методы\n",
        "  * inheritance\n",
        "  * name mangling\n",
        "  * staticmethod, classmethod\n",
        "  * callable objects\n",
        "  * basic magic methods\n",
        "  * contexts"
      ]
    },
    {
      "cell_type": "markdown",
      "metadata": {
        "id": "eBIqnovfG-rR"
      },
      "source": [
        "### cоздание классов, аттрибуты и методы"
      ]
    },
    {
      "cell_type": "code",
      "metadata": {
        "id": "lV1URWRkG-rS"
      },
      "source": [
        "class Class:\n",
        "    pass\n",
        "\n",
        "instance = Class()\n",
        "instance.some_str = \"instance str\"  # динамическое добавление поля объекту\n",
        "\n",
        "print(instance.some_str)\n",
        "print(isinstance(instance, Class))  # проверка принадлежности объекта классу"
      ],
      "execution_count": null,
      "outputs": []
    },
    {
      "cell_type": "code",
      "metadata": {
        "id": "t_fQw9loG-rS"
      },
      "source": [
        "another_instance = Class()\n",
        "print(another_instance.some_str)"
      ],
      "execution_count": null,
      "outputs": []
    },
    {
      "cell_type": "code",
      "metadata": {
        "id": "YYxSDmMdG-rT"
      },
      "source": [
        "help(Class)"
      ],
      "execution_count": null,
      "outputs": []
    },
    {
      "cell_type": "markdown",
      "metadata": {
        "id": "qsXE6LaSG-rT"
      },
      "source": [
        "__Q:__ Это не очень хорошо, где конструктор (как в С++), где методы, где ссылка на текущий объект?  \n",
        "__A:__ **Они есть!**"
      ]
    },
    {
      "cell_type": "code",
      "metadata": {
        "id": "F0uX6flgG-rT"
      },
      "source": [
        "class Class:\n",
        "    \n",
        "    def __init__(self, some_str_: str = \"I'm instance's field\"):  # особый \"магический метод\" aka конструктор\n",
        "        self.some_str = some_str_\n",
        "\n",
        "instance = Class()\n",
        "print(instance.some_str)\n",
        "another_instance = Class(\"I'm another instance's field\")\n",
        "print(another_instance.some_str)\n",
        "print(instance.some_str)"
      ],
      "execution_count": null,
      "outputs": []
    },
    {
      "cell_type": "code",
      "metadata": {
        "id": "BlsY3MDVG-rU"
      },
      "source": [
        "class Class:\n",
        "    \n",
        "    static_some_str = \"I'm static field\"\n",
        "    \n",
        "    def __init__(self, some_str_: str = \"I'm instance's field\"):\n",
        "        self.some_str = some_str_\n",
        "        \n",
        "    def print_some_str(self):\n",
        "        print(f\"Class instance field `some_str`='{self.some_str}'\")\n",
        "\n",
        "instance = Class(\"I'm another instance's field\")\n",
        "instance.print_some_str()"
      ],
      "execution_count": null,
      "outputs": []
    },
    {
      "cell_type": "markdown",
      "metadata": {
        "id": "Hxy-iHkyG-rU"
      },
      "source": [
        "__Q:__ А а что значит self в определении метода?\n",
        "\n",
        "__A:__ Когда мы вызываем метод как ```<objname>.<methodname>(<arg1>, ..., <argN>)```, нулевым аргументом передается ссылка на ```obj``` (в качестве ```self```)"
      ]
    },
    {
      "cell_type": "code",
      "metadata": {
        "id": "iMeFfLY1G-rU"
      },
      "source": [
        "class MyLittleClass:\n",
        "    \n",
        "    def method_without_self(arg):\n",
        "        print(arg)\n",
        "        \n",
        "    def method_with_self(self, arg):\n",
        "        print(arg)"
      ],
      "execution_count": null,
      "outputs": []
    },
    {
      "cell_type": "code",
      "metadata": {
        "id": "oikzRsl_G-rV"
      },
      "source": [
        "obj = MyLittleClass()\n",
        "obj.method_with_self('i am an argument')\n",
        "obj.method_without_self('i am another argument') # здесь мы на самом деле передаем по два аргумента, self и arg"
      ],
      "execution_count": null,
      "outputs": []
    },
    {
      "cell_type": "markdown",
      "metadata": {
        "id": "MTP8w9WpG-rV"
      },
      "source": [
        "__Q:__ А как же тогда их вызывать?!\n",
        "\n",
        "__A:__ Они не привязаны к инстансу (потому что не имеют доступа к его локальным данным), зато привязаны к классу"
      ]
    },
    {
      "cell_type": "code",
      "metadata": {
        "id": "L_-mWWz_G-rV"
      },
      "source": [
        "MyLittleClass.method_without_self('i am another argument')  # а здесь мы передаем только один аргумент"
      ],
      "execution_count": null,
      "outputs": []
    },
    {
      "cell_type": "markdown",
      "metadata": {
        "id": "l7k0IHk-G-rV"
      },
      "source": [
        "__Q:__ Можно ли \"оторвать\" метод от инстанса?\n",
        "\n",
        "__A:__ Ну, попробуем"
      ]
    },
    {
      "cell_type": "code",
      "metadata": {
        "id": "B2HpqRFUG-rW"
      },
      "source": [
        "func = MyLittleClass.method_without_self\n",
        "func(\"hello\")"
      ],
      "execution_count": null,
      "outputs": []
    },
    {
      "cell_type": "code",
      "metadata": {
        "id": "aSOaW59BG-rW"
      },
      "source": [
        "func2 = MyLittleClass.method_with_self\n",
        "func2(\"hello\")  # передаем один аргумент"
      ],
      "execution_count": null,
      "outputs": []
    },
    {
      "cell_type": "code",
      "metadata": {
        "id": "8PYyDjciG-rW"
      },
      "source": [
        "func3 = obj.method_with_self\n",
        "func3(\"hello\")  # передаем два аргумента"
      ],
      "execution_count": null,
      "outputs": []
    },
    {
      "cell_type": "code",
      "metadata": {
        "id": "xtLr6DgVG-rX"
      },
      "source": [
        "func2(MyLittleClass(), \"hello\")  # ой, нам же ещё нужен объект для self!"
      ],
      "execution_count": null,
      "outputs": []
    },
    {
      "cell_type": "markdown",
      "metadata": {
        "id": "VXNviHf4G-rX"
      },
      "source": [
        "__Q:__ А наоборот?\n",
        "\n",
        "__A:__ Да это же питон. Конечно, можно!"
      ]
    },
    {
      "cell_type": "code",
      "metadata": {
        "id": "apQbUINDG-rX"
      },
      "source": [
        "obj.get_color()"
      ],
      "execution_count": null,
      "outputs": []
    },
    {
      "cell_type": "code",
      "metadata": {
        "id": "G8MWkimYG-rY"
      },
      "source": [
        "def get_color_function(self):\n",
        "    return self.color\n",
        "\n",
        "MyLittleClass.get_color = get_color_function\n",
        "obj = MyLittleClass()\n",
        "obj.get_color()"
      ],
      "execution_count": null,
      "outputs": []
    },
    {
      "cell_type": "markdown",
      "metadata": {
        "id": "72jwJkyUG-rY"
      },
      "source": [
        "Ах да, цвета-то у нас нет. Но не беда, это же питон!"
      ]
    },
    {
      "cell_type": "code",
      "metadata": {
        "id": "CRcY5JdvG-rZ"
      },
      "source": [
        "obj.color = 'pink'\n",
        "obj.get_color()"
      ],
      "execution_count": null,
      "outputs": []
    },
    {
      "cell_type": "markdown",
      "metadata": {
        "id": "F1d62QuoG-rZ"
      },
      "source": [
        "__Q:__ А как же узнать, что мы уже определили, а что нет?\n",
        "\n",
        "__A:__ Легко!"
      ]
    },
    {
      "cell_type": "code",
      "metadata": {
        "id": "6Pjb37etG-rZ"
      },
      "source": [
        "print(dir(obj))"
      ],
      "execution_count": null,
      "outputs": []
    },
    {
      "cell_type": "code",
      "metadata": {
        "id": "pCUvIMU4G-rZ"
      },
      "source": [
        "# оставим только методы\n",
        "print([name for name in dir(obj) if callable(getattr(obj, name))])"
      ],
      "execution_count": null,
      "outputs": []
    },
    {
      "cell_type": "markdown",
      "metadata": {
        "id": "hq-TTVFVG-rZ"
      },
      "source": [
        "### inheritance"
      ]
    },
    {
      "cell_type": "code",
      "metadata": {
        "id": "LP6UzCvlG-rZ"
      },
      "source": [
        "class Animal:\n",
        "\n",
        "    some_value = \"animal\"\n",
        "\n",
        "    def __init__(self):\n",
        "        print(\"i am an animal\")\n",
        "    \n",
        "    def speak(self):\n",
        "        raise NotImplementedError('i don\\'t know how to speak')\n",
        "\n",
        "        \n",
        "class Cat(Animal):\n",
        "    \n",
        "    some_value = \"cat\"\n",
        "    \n",
        "    def __init__(self):\n",
        "        super().__init__()\n",
        "        print(\"i am a cat\")\n",
        "    \n",
        "    def speak(self):\n",
        "        print('meoooow')\n",
        "\n",
        "        \n",
        "class Hedgehog(Animal):\n",
        "    \n",
        "    def __init__(self):\n",
        "        super().__init__()\n",
        "        print(\"i am a hedgehog\")\n",
        "\n",
        "        \n",
        "class Dog(Animal):\n",
        "    \n",
        "    some_value = \"dog\"\n",
        "    \n",
        "    def __init__(self):\n",
        "        super().__init__()\n",
        "        print(\"i am a dog\")\n",
        "\n",
        "        \n",
        "class CatDog(Cat, Dog):  # ромбовидное наследование возможно, но не делайте так, пожалуйста!\n",
        "    \n",
        "    def __init__(self):\n",
        "        super().__init__()\n",
        "        print(\"i am a CatDog!\")"
      ],
      "execution_count": null,
      "outputs": []
    },
    {
      "cell_type": "code",
      "metadata": {
        "id": "tG7B20whG-ra"
      },
      "source": [
        "animal = Animal()\n",
        "animal.some_value"
      ],
      "execution_count": null,
      "outputs": []
    },
    {
      "cell_type": "code",
      "metadata": {
        "id": "6jwbcmjdG-ra"
      },
      "source": [
        "cat = Cat()\n",
        "cat.some_value  # переопределено"
      ],
      "execution_count": null,
      "outputs": []
    },
    {
      "cell_type": "code",
      "metadata": {
        "id": "dA0vT_sEG-ra"
      },
      "source": [
        "hedgehog = Hedgehog()\n",
        "hedgehog.some_value  # не переопределено"
      ],
      "execution_count": null,
      "outputs": []
    },
    {
      "cell_type": "code",
      "metadata": {
        "id": "hATtNZMxG-ra"
      },
      "source": [
        "dog = Dog()\n",
        "dog.some_value  # переопределено"
      ],
      "execution_count": null,
      "outputs": []
    },
    {
      "cell_type": "code",
      "metadata": {
        "id": "oaq1KcwDG-ra"
      },
      "source": [
        "catdog = CatDog()\n",
        "catdog.some_value"
      ],
      "execution_count": null,
      "outputs": []
    },
    {
      "cell_type": "markdown",
      "metadata": {
        "id": "oJy7m8bRG-ra"
      },
      "source": [
        "__Q:__ А как определяется порядок?\n",
        "    \n",
        "__A:__ Порядок перечисления родителей важен!"
      ]
    },
    {
      "cell_type": "code",
      "metadata": {
        "id": "Xy3Lmrn_G-ra"
      },
      "source": [
        "class CatDog(Dog, Cat):  # теперь наоборот, найдите два отличия!\n",
        "    def __init__(self):\n",
        "        super().__init__()\n",
        "        print(\"i am a CatDog!\")\n",
        "\n",
        "catdog = CatDog()\n",
        "catdog.some_value"
      ],
      "execution_count": null,
      "outputs": []
    },
    {
      "cell_type": "markdown",
      "metadata": {
        "id": "eojlbqnJG-rb"
      },
      "source": [
        "##### << Пояснительная бригада: начало>>"
      ]
    },
    {
      "cell_type": "code",
      "metadata": {
        "id": "Do1unxPcG-rb"
      },
      "source": [
        "class A(object):\n",
        "\n",
        "    def print(self):\n",
        "        print(\"Class А\")\n",
        "    pass\n",
        "\n",
        "\n",
        "class B(A):\n",
        "    \n",
        "    def print(self):\n",
        "        super().print()\n",
        "        print(\"Class B\")\n",
        "\n",
        "    pass\n",
        "\n",
        "\n",
        "class C(A):\n",
        "\n",
        "    def print(self):\n",
        "        super().print()\n",
        "        print(\"Class C\")\n",
        "    \n",
        "    pass\n",
        "\n",
        "\n",
        "class D(B, C):\n",
        "\n",
        "    pass"
      ],
      "execution_count": null,
      "outputs": []
    },
    {
      "cell_type": "code",
      "metadata": {
        "id": "_VVJKl4iG-rb"
      },
      "source": [
        "d = D()\n",
        "d.print()"
      ],
      "execution_count": null,
      "outputs": []
    },
    {
      "cell_type": "code",
      "metadata": {
        "id": "0gmt-An5G-rb"
      },
      "source": [
        "D.mro()"
      ],
      "execution_count": null,
      "outputs": []
    },
    {
      "cell_type": "code",
      "metadata": {
        "id": "XbkLyzcvG-rb"
      },
      "source": [
        "class E(C, B):\n",
        "\n",
        "    pass\n",
        "\n",
        "class F(D, E):\n",
        "\n",
        "    pass"
      ],
      "execution_count": null,
      "outputs": []
    },
    {
      "cell_type": "markdown",
      "metadata": {
        "id": "3Nj8RmgSG-rb"
      },
      "source": [
        "##### << Пояснительная бригада: конец>>"
      ]
    },
    {
      "cell_type": "markdown",
      "metadata": {
        "id": "OeZ_z0AOG-rc"
      },
      "source": [
        "__Q:__ А что с методами?\n",
        "    \n",
        "__A:__ Всё то же, что и с атрибутами!"
      ]
    },
    {
      "cell_type": "markdown",
      "metadata": {
        "id": "vqu8uU0uG-rc"
      },
      "source": [
        "### name mangling"
      ]
    },
    {
      "cell_type": "code",
      "metadata": {
        "id": "pP9Pfw1GG-rc"
      },
      "source": [
        "class VeryPrivateDataHolder:\n",
        "    def __init__(self):\n",
        "        self._secret = 1\n",
        "        self.__very_secret = 2"
      ],
      "execution_count": null,
      "outputs": []
    },
    {
      "cell_type": "code",
      "metadata": {
        "id": "--dGPCKUG-rc"
      },
      "source": [
        "obj = VeryPrivateDataHolder()\n",
        "print(obj._secret)\n",
        "print(obj.__very_secret)"
      ],
      "execution_count": null,
      "outputs": []
    },
    {
      "cell_type": "markdown",
      "metadata": {
        "id": "fJTYrgs1G-rc"
      },
      "source": [
        "__Q:__ То есть, в питоне всё-таки есть приватность?\n",
        "\n",
        "__A:__ Ну..."
      ]
    },
    {
      "cell_type": "markdown",
      "metadata": {
        "id": "9A9ZX67yG-rc"
      },
      "source": [
        "Любой атрибут внутри определения класса ```classname``` вида ```__{attr}``` (```attr``` при этом имеет не более одного ```_``` в конце) подменяется на ```_{classname}__{attr}```. Таким образом, внутри классов можно иметь \"скрытые\" приватные атрибуты, которые не \"видны\" экземплярам класса и классам-наследникам."
      ]
    },
    {
      "cell_type": "code",
      "metadata": {
        "id": "c_uLRRnTG-rc"
      },
      "source": [
        "obj._VeryPrivateDataHolder__very_secret  # а так вообще никогда не делайте, особенно с чужими классами"
      ],
      "execution_count": null,
      "outputs": []
    },
    {
      "cell_type": "code",
      "metadata": {
        "id": "6aftxPtKG-rc"
      },
      "source": [
        "obj._VeryPrivateDataHolder__very_secret = 'new secret'\n",
        "obj._VeryPrivateDataHolder__very_secret"
      ],
      "execution_count": null,
      "outputs": []
    },
    {
      "cell_type": "code",
      "metadata": {
        "id": "IKt5ZdDtG-rc"
      },
      "source": [
        "class DerivedVeryPrivateDataHolder(VeryPrivateDataHolder):\n",
        "    def __init__(self):\n",
        "        super().__init__()\n",
        "\n",
        "obj = DerivedVeryPrivateDataHolder()"
      ],
      "execution_count": null,
      "outputs": []
    },
    {
      "cell_type": "code",
      "metadata": {
        "id": "UpPWRSG7G-rd"
      },
      "source": [
        "print(obj._secret)\n",
        "print(obj.__very_secret)"
      ],
      "execution_count": null,
      "outputs": []
    },
    {
      "cell_type": "code",
      "metadata": {
        "id": "fJGVQJvqG-rd"
      },
      "source": [
        "print(obj._VeryPrivateDataHolder__very_secret)\n",
        "print(obj._DerivedVeryPrivateDataHolder__very_secret)"
      ],
      "execution_count": null,
      "outputs": []
    },
    {
      "cell_type": "markdown",
      "metadata": {
        "id": "Y50DaBG1G-rd"
      },
      "source": [
        "### staticmethod, classmethod"
      ]
    },
    {
      "cell_type": "markdown",
      "metadata": {
        "id": "up_9hLIAG-rd"
      },
      "source": [
        "`@staticmethod` — используется для создания метода, который ничего не знает о классе или экземпляре, через который он был вызван. Он просто получает переданные аргументы, без неявного первого аргумента, и его определение неизменяемо через наследование.\n",
        "\n",
        "Проще говоря, `@staticmethod` — это вроде обычной функции, определенной внутри класса, которая не имеет доступа к экземпляру, поэтому ее можно вызывать без создания экземпляра класса.\n",
        "\n",
        "---\n",
        "\n",
        "`@classmethod` — это метод, который получает класс в качестве неявного первого аргумента, точно так же, как обычный метод экземпляра получает экземпляр. Это означает, что вы можете использовать класс и его свойства внутри этого метода, а не конкретного экземпляра.\n",
        "\n",
        "Проще говоря, `@classmethod` — это обычный метод класса, имеющий доступ ко всем атрибутам класса, через который он был вызван. Следовательно, `@classmethod` — это метод, который привязан к классу, а не к экземпляру класса."
      ]
    },
    {
      "cell_type": "code",
      "metadata": {
        "id": "bDwS0Dl6G-rd"
      },
      "source": [
        "class MyClass:\n",
        "    \n",
        "    clsval = 0\n",
        "    \n",
        "    def __init__(self,val):\n",
        "        self.objval = val\n",
        "\n",
        "    def set_val(self,val):\n",
        "        type(self).clsval = val  # атрибут класса \n",
        "        self.objval = val        # атрибут объекта \n",
        "    \n",
        "    @staticmethod  # можно вызывать и как obj.static_set_val(val) и как MyClass.static_set_val(val)!\n",
        "    def static_set_val(val):\n",
        "        MyClass.clsval = val\n",
        "        \n",
        "    @classmethod  # передаёт класс первым аргументом\n",
        "    def class_set_val(cls, val):\n",
        "        cls.clsval = val"
      ],
      "execution_count": null,
      "outputs": []
    },
    {
      "cell_type": "code",
      "metadata": {
        "id": "62GSz5MDG-rd"
      },
      "source": [
        "obj = MyClass(5)\n",
        "print('clsval', obj.clsval, 'objval', obj.objval)\n",
        "\n",
        "obj.set_val(9)\n",
        "print('clsval', obj.clsval, 'objval', obj.objval)\n",
        "\n",
        "obj.static_set_val(4)\n",
        "print('clsval', obj.clsval, 'objval', obj.objval)\n",
        "\n",
        "MyClass.static_set_val(3)\n",
        "print('clsval', obj.clsval, 'objval', obj.objval)\n",
        "\n",
        "MyClass.class_set_val(7)\n",
        "print('clsval', obj.clsval, 'objval', obj.objval)"
      ],
      "execution_count": null,
      "outputs": []
    },
    {
      "cell_type": "markdown",
      "metadata": {
        "id": "eRNkqj_lG-rd"
      },
      "source": [
        "### callable objects"
      ]
    },
    {
      "cell_type": "code",
      "metadata": {
        "id": "g8v6lelmG-re"
      },
      "source": [
        "class Adder:\n",
        "\n",
        "    def __init__(self, x):\n",
        "        self.x = x\n",
        "\n",
        "    def __call__(self, y):\n",
        "        return self.x + y\n",
        "    \n",
        "adder = Adder(10)\n",
        "\n",
        "adder(14)"
      ],
      "execution_count": null,
      "outputs": []
    },
    {
      "cell_type": "markdown",
      "metadata": {
        "id": "W7vsoH4WG-re"
      },
      "source": [
        "### basic magic methods"
      ]
    },
    {
      "cell_type": "code",
      "metadata": {
        "id": "2l--Obj8G-re"
      },
      "source": [
        "import random\n",
        "\n",
        "class Vector:        \n",
        "    def __init__(self, x=0, y=0, color=None):\n",
        "        print(\"initializing a vector\")\n",
        "        if type(x) != int or type(y) != int:\n",
        "            raise AttributeError('x and y should be int')\n",
        "        \n",
        "        self._x = x\n",
        "        self._y = y\n",
        "        self._color = color\n",
        "    \n",
        "    def get_x(self):\n",
        "        return self._x\n",
        "    \n",
        "    def get_y(self):\n",
        "        return self._y"
      ],
      "execution_count": null,
      "outputs": []
    },
    {
      "cell_type": "markdown",
      "metadata": {
        "id": "maEb__MMG-re"
      },
      "source": [
        "Методы с двойным подчеркиванием в начале и конце имени имеют особое значение. \n",
        "\n",
        "Мы уже знакомы с `__init__` и `__call__`, пора узнать и об остальных"
      ]
    },
    {
      "cell_type": "code",
      "metadata": {
        "id": "gCMbE8tYG-re"
      },
      "source": [
        "vector = Vector(1, 2, 'red')\n",
        "str(vector)"
      ],
      "execution_count": null,
      "outputs": []
    },
    {
      "cell_type": "code",
      "metadata": {
        "id": "7TV3vQKFG-re"
      },
      "source": [
        "class VectorWithStr(Vector):\n",
        "    def __str__(self):\n",
        "        return 'vector ({}, {}) of color {}'.format(self._x, self._y, self._color)"
      ],
      "execution_count": null,
      "outputs": []
    },
    {
      "cell_type": "code",
      "metadata": {
        "id": "41tmE8V7G-re"
      },
      "source": [
        "vector = VectorWithStr(1, 2, 'red')\n",
        "str(vector)"
      ],
      "execution_count": null,
      "outputs": []
    },
    {
      "cell_type": "markdown",
      "metadata": {
        "id": "cVnY6FQPG-re"
      },
      "source": [
        "__Q:__ Преобразование в строку? Это всё?\n",
        "\n",
        "__A:__ Конечно, нет. Неявные преобразования иногда происходят там, где мы их не ожидаем"
      ]
    },
    {
      "cell_type": "code",
      "metadata": {
        "id": "kaG9YjghG-re"
      },
      "source": [
        "print(vector)"
      ],
      "execution_count": null,
      "outputs": []
    },
    {
      "cell_type": "code",
      "metadata": {
        "id": "fvlgg4x6G-re"
      },
      "source": [
        "mylist = [vector]\n",
        "print(mylist)"
      ],
      "execution_count": null,
      "outputs": []
    },
    {
      "cell_type": "markdown",
      "metadata": {
        "id": "yMPoD7oUG-rf"
      },
      "source": [
        "__Q:__ А откуда опять \"некрасивые\" строки?!  \n",
        "\n",
        "__A:__ В питоне используется два способа приведения к строке. Это функции `str` и `repr`, которые отличаются своим назначением. \n",
        "\n",
        "`str` используется там, где нужна человекочитаемость, а `repr` реализуется так, чтобы можно было однозначно определить, о каком объекте идет речь. Если `repr` не реализован, используется стандартный вариант, а если не реализован `str`, то вместо него используется `repr`. \n",
        "\n",
        "Попробуем?"
      ]
    },
    {
      "cell_type": "code",
      "metadata": {
        "id": "Ms2a7Rb-G-rf"
      },
      "source": [
        "class VectorWithRepr(Vector):\n",
        "    def __repr__(self):\n",
        "        return 'vector representation (x: {}, y: {}, color: {})'.format(self._x, self._y, self._color)"
      ],
      "execution_count": null,
      "outputs": []
    },
    {
      "cell_type": "code",
      "metadata": {
        "id": "sRHXk4VFG-rf"
      },
      "source": [
        "vector = VectorWithRepr(1, 2, 'red')\n",
        "\n",
        "print(vector)\n",
        "mylist = [vector]\n",
        "print(mylist)"
      ],
      "execution_count": null,
      "outputs": []
    },
    {
      "cell_type": "code",
      "metadata": {
        "id": "4g8cCInEG-rf"
      },
      "source": [
        "class VectorWithBothReprAndStr(VectorWithRepr, VectorWithStr):\n",
        "    pass"
      ],
      "execution_count": null,
      "outputs": []
    },
    {
      "cell_type": "code",
      "metadata": {
        "id": "LNGga4ZFG-rf"
      },
      "source": [
        "vector = VectorWithBothReprAndStr(1, 2, 'red')\n",
        "# вот здесь должны получиться разные значения\n",
        "print(vector)\n",
        "print([vector])"
      ],
      "execution_count": null,
      "outputs": []
    },
    {
      "cell_type": "markdown",
      "metadata": {
        "id": "GGH5jhPJG-rf"
      },
      "source": [
        "### contexts"
      ]
    },
    {
      "cell_type": "markdown",
      "metadata": {
        "id": "BWtdUfLIG-rf"
      },
      "source": [
        "Контекстом (он же менеджер) следит за инициализацией и финализацией данного контекста, в частности определяет действия которые должны происходить до и после выполнения блока кода.\n",
        "\n",
        "Обычно используется совместно с инструкцией `with`, позволяющей выполнение описанного в ней блока в некотором контексте исполнения. Однако не возбраняется и прямое обращение к методам менеджера.\n",
        "\n",
        "Менеджеры контекста часто используются в задачах сходных с:\n",
        " * сохранением и восстановлением глобального состояния;\n",
        " * блокировкой и разблокировкой ресурсов;\n",
        " * открытием и закрытиям файлов.\n",
        "\n",
        "В сущности, признаком принадлежности к типу является следование протоколу контекстного менеджера , характеризующемуся наличием реализаций у пользовательского типа двух методов:\n",
        "\n",
        " * `__enter__()`;\n",
        " * `__exit__()`."
      ]
    },
    {
      "cell_type": "code",
      "metadata": {
        "id": "XPWhohxYG-rf"
      },
      "source": [
        "class VectorWithContextManager(VectorWithBothReprAndStr):\n",
        "    def __enter__(self):\n",
        "        print('entering context')\n",
        "    def __exit__(self, *args):\n",
        "        print('leaving context')\n",
        "        #return False # -- бросаем ошибку дальше\n",
        "        return True  # -- НЕ бросаем ошибку дальше"
      ],
      "execution_count": null,
      "outputs": []
    },
    {
      "cell_type": "code",
      "metadata": {
        "id": "Q3oseziAG-rf"
      },
      "source": [
        "try:\n",
        "    with VectorWithContextManager() as vec:\n",
        "        for i in range(3):\n",
        "            print(i)\n",
        "        raise Exception('something happened inside!')\n",
        "except:\n",
        "    print('an exception was raised...')\n",
        "    pass\n",
        "print('we are out of the context')"
      ],
      "execution_count": null,
      "outputs": []
    },
    {
      "cell_type": "markdown",
      "metadata": {
        "id": "f6yobOAaG-rg"
      },
      "source": [
        "Но можно и проще!"
      ]
    },
    {
      "cell_type": "code",
      "metadata": {
        "id": "_WrrUX1cG-rg"
      },
      "source": [
        "from contextlib import contextmanager\n",
        "\n",
        "@contextmanager\n",
        "def vector_mgr():\n",
        "    print('handling entering the context')\n",
        "    yield VectorWithBothReprAndStr()\n",
        "    print('handling leaving the context')\n",
        "          \n",
        "print('statement before context')\n",
        "with vector_mgr() as vector:\n",
        "    for i in range(3):\n",
        "        print(vector)\n",
        "print('statement after context')"
      ],
      "execution_count": null,
      "outputs": []
    },
    {
      "cell_type": "code",
      "metadata": {
        "id": "OuLoqccDG-rg"
      },
      "source": [
        "# А теперь с ошибкой:\n",
        "\n",
        "@contextmanager\n",
        "def vector_mgr():\n",
        "    try:\n",
        "        print('handling entering the context')\n",
        "        yield VectorWithBothReprAndStr()\n",
        "    except ZeroDivisionError as e:\n",
        "        pass\n",
        "    finally:\n",
        "        print('handling leaving the context')\n",
        "          \n",
        "print('statement before context')\n",
        "with vector_mgr() as vector:\n",
        "    for i in range(3):\n",
        "        print(vector)\n",
        "        infin = 1 / 0\n",
        "print('statement after context')"
      ],
      "execution_count": null,
      "outputs": []
    }
  ]
}